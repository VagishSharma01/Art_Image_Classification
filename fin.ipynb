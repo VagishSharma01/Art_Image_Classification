{
 "cells": [
  {
   "cell_type": "code",
   "execution_count": 1,
   "metadata": {},
   "outputs": [],
   "source": [
    "import os\n",
    "import cv2\n",
    "import numpy as np\n",
    "from skimage.util import random_noise\n",
    "\n",
    "# Specify the indices of the images you want to check\n",
    "images_to_check = [1, 3, 5]\n",
    "\n",
    "# Step 1: Get the data from the computer storage\n",
    "data_dir = r\"D:\\Z\\Data_Set\\ttt\"  # Replace with the actual path to your dataset\n",
    "\n",
    "# List of folder names within the data directory\n",
    "folder_names = ['Crayons', 'Oil Pastel', 'Outline', 'Painting', 'Pencil Shading']\n",
    "\n",
    "# Step 2: Resize the images\n",
    "target_size = (229, 229)  # Replace with the desired image size for GoogleNet\n",
    "\n",
    "# Step 3: Read and process the images in each folder\n",
    "for folder in folder_names:\n",
    "    folder_path = os.path.join(data_dir, folder)\n",
    "    for root, dirs, files in os.walk(folder_path):\n",
    "        output_dir = os.path.join(root, \"Processed_Images\")\n",
    "        os.makedirs(output_dir, exist_ok=True)\n",
    "\n",
    "        for i, file in enumerate(files):\n",
    "            if file.lower().endswith(('.jpg', '.png')):\n",
    "                image_path = os.path.join(root, file)\n",
    "                image = cv2.imread(image_path)\n",
    "                if image is None:\n",
    "                    print(f\"Error reading image: {image_path}\")\n",
    "                    continue\n",
    "\n",
    "                # Step 4: Data normalization and resizing\n",
    "                resized_image = cv2.resize(image, target_size, interpolation=cv2.INTER_LINEAR)\n",
    "                noisy_image = random_noise(resized_image, mode='gaussian', var=0.0001)\n",
    "                noisy_image = (255 * noisy_image).astype(np.uint8)\n",
    "\n",
    "                # Step 5: Apply filters\n",
    "                brightness = np.mean(noisy_image)\n",
    "                laplacian_var = cv2.Laplacian(noisy_image, cv2.CV_64F).var()\n",
    "                edges = cv2.Canny(noisy_image, 100, 200)\n",
    "                edge_pixels_ratio = np.sum(edges) / (edges.shape[0] * edges.shape[1])\n",
    "\n",
    "                if 20 <= brightness <= 230 and laplacian_var >= 100 and edge_pixels_ratio >= 0.01:\n",
    "                    # Step 6: Data augmentation\n",
    "                    enhanced_image = noisy_image  # Use the noisy image as the final processed image\n",
    "\n",
    "                    # Apply additional augmentation features\n",
    "                    rotated_image = cv2.rotate(enhanced_image, cv2.ROTATE_90_CLOCKWISE)\n",
    "                    flipped_image = cv2.flip(enhanced_image, 1)  # Horizontal flip\n",
    "\n",
    "                    # Save the augmented images in the output directory\n",
    "                    cv2.imwrite(os.path.join(output_dir, 'augmented_enhanced_' + file), enhanced_image)\n",
    "                    cv2.imwrite(os.path.join(output_dir, 'augmented_rotated_' + file), rotated_image)\n",
    "                    cv2.imwrite(os.path.join(output_dir, 'augmented_flipped_' + file), flipped_image)\n"
   ]
  },
  {
   "cell_type": "code",
   "execution_count": null,
   "metadata": {},
   "outputs": [],
   "source": []
  }
 ],
 "metadata": {
  "kernelspec": {
   "display_name": "tf",
   "language": "python",
   "name": "python3"
  },
  "language_info": {
   "codemirror_mode": {
    "name": "ipython",
    "version": 3
   },
   "file_extension": ".py",
   "mimetype": "text/x-python",
   "name": "python",
   "nbconvert_exporter": "python",
   "pygments_lexer": "ipython3",
   "version": "3.9.16"
  },
  "orig_nbformat": 4
 },
 "nbformat": 4,
 "nbformat_minor": 2
}
